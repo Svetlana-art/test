{
  "nbformat": 4,
  "nbformat_minor": 0,
  "metadata": {
    "colab": {
      "name": "Сколково_МФТИ_MTC.ipynb",
      "provenance": [],
      "toc_visible": true,
      "authorship_tag": "ABX9TyOATUrkNgSTG7vrGAzCFJJd",
      "include_colab_link": true
    },
    "kernelspec": {
      "name": "python3",
      "display_name": "Python 3"
    }
  },
  "cells": [
    {
      "cell_type": "markdown",
      "metadata": {
        "id": "view-in-github",
        "colab_type": "text"
      },
      "source": [
        "<a href=\"https://colab.research.google.com/github/Svetlana-art/test/blob/master/%D0%A1%D0%BA%D0%BE%D0%BB%D0%BA%D0%BE%D0%B2%D0%BE_%D0%9C%D0%A4%D0%A2%D0%98_MTC.ipynb\" target=\"_parent\"><img src=\"https://colab.research.google.com/assets/colab-badge.svg\" alt=\"Open In Colab\"/></a>"
      ]
    },
    {
      "cell_type": "markdown",
      "metadata": {
        "id": "jKWAjF19S6FX",
        "colab_type": "text"
      },
      "source": [
        "#задача 1 (A)"
      ]
    },
    {
      "cell_type": "markdown",
      "metadata": {
        "id": "0ydMXwR5Wz_j",
        "colab_type": "text"
      },
      "source": [
        "Дано целое число А. Выведите запись числа A в двоичном 8-разрядном дополнительном коде.\n",
        "\n",
        "Ограничения: -128 ≤ A ≤ 127."
      ]
    },
    {
      "cell_type": "code",
      "metadata": {
        "id": "I0g80XytHM7X",
        "colab_type": "code",
        "colab": {
          "base_uri": "https://localhost:8080/",
          "height": 34
        },
        "outputId": "7c63d400-8c9d-4720-f81d-ca83dab6ee7f"
      },
      "source": [
        "print(format(1, \"b\"))"
      ],
      "execution_count": null,
      "outputs": [
        {
          "output_type": "stream",
          "text": [
            "1\n"
          ],
          "name": "stdout"
        }
      ]
    },
    {
      "cell_type": "code",
      "metadata": {
        "id": "a97TJvSkHjpm",
        "colab_type": "code",
        "colab": {
          "base_uri": "https://localhost:8080/",
          "height": 34
        },
        "outputId": "70e4e7d8-fe57-4c5d-d421-bc3bb73a58c2"
      },
      "source": [
        "print(format(-1, \"b\").zfill(8))"
      ],
      "execution_count": null,
      "outputs": [
        {
          "output_type": "stream",
          "text": [
            "-0000001\n"
          ],
          "name": "stdout"
        }
      ]
    },
    {
      "cell_type": "code",
      "metadata": {
        "id": "YbOedIJ9Jf74",
        "colab_type": "code",
        "colab": {
          "base_uri": "https://localhost:8080/",
          "height": 34
        },
        "outputId": "7b3980b1-4783-427e-d6d5-526daa4d65d2"
      },
      "source": [
        "print(format(-1%256, \"b\").zfill(8))"
      ],
      "execution_count": null,
      "outputs": [
        {
          "output_type": "stream",
          "text": [
            "11111111\n"
          ],
          "name": "stdout"
        }
      ]
    },
    {
      "cell_type": "code",
      "metadata": {
        "id": "dPf2GJF2K3Cu",
        "colab_type": "code",
        "colab": {
          "base_uri": "https://localhost:8080/",
          "height": 51
        },
        "outputId": "f9ca2b28-1121-4f9c-8600-38dbac44b29a"
      },
      "source": [
        "A = int(input())\n",
        "print(format(A%256, \"b\").zfill(8))\n",
        "\n"
      ],
      "execution_count": null,
      "outputs": [
        {
          "output_type": "stream",
          "text": [
            "-1\n",
            "11111111\n"
          ],
          "name": "stdout"
        }
      ]
    },
    {
      "cell_type": "markdown",
      "metadata": {
        "id": "PzDJGHPsTINO",
        "colab_type": "text"
      },
      "source": [
        "#Задача 2 (C)"
      ]
    },
    {
      "cell_type": "markdown",
      "metadata": {
        "id": "0r7i_TDoW8Wd",
        "colab_type": "text"
      },
      "source": [
        "Сложите положительные действительные числа, пришедшие на стандартный вход\n",
        "\n",
        "Чисел не более 10^7. Точность не менее 10^-20\n",
        "\n",
        "Пример входа\n",
        "\n",
        "1.2 3.4 5.6\n",
        "\n",
        "Пример выхода\n",
        "\n",
        "10.2\n"
      ]
    },
    {
      "cell_type": "code",
      "metadata": {
        "id": "5qfqv0aIN_tP",
        "colab_type": "code",
        "colab": {
          "base_uri": "https://localhost:8080/",
          "height": 51
        },
        "outputId": "dbecdf40-1cc5-4591-bf98-07711305ea75"
      },
      "source": [
        "a = input()\n",
        "sum([float(x) for x in a.split()])"
      ],
      "execution_count": 19,
      "outputs": [
        {
          "output_type": "stream",
          "text": [
            "1.2 3.4 5.6\n"
          ],
          "name": "stdout"
        },
        {
          "output_type": "execute_result",
          "data": {
            "text/plain": [
              "10.2"
            ]
          },
          "metadata": {
            "tags": []
          },
          "execution_count": 19
        }
      ]
    },
    {
      "cell_type": "code",
      "metadata": {
        "id": "zewa91HSQFMk",
        "colab_type": "code",
        "colab": {
          "base_uri": "https://localhost:8080/",
          "height": 51
        },
        "outputId": "f70c5b9d-e457-4ed5-824c-aafd337f8e51"
      },
      "source": [
        "import numpy\n",
        "\n",
        "a = input()\n",
        "print(sum([numpy.float64(x) for x in a.split()]))"
      ],
      "execution_count": null,
      "outputs": [
        {
          "output_type": "stream",
          "text": [
            "1.2 3.4 5.6\n",
            "10.2\n"
          ],
          "name": "stdout"
        }
      ]
    },
    {
      "cell_type": "code",
      "metadata": {
        "id": "NfGeTzoxRfCq",
        "colab_type": "code",
        "colab": {
          "base_uri": "https://localhost:8080/",
          "height": 51
        },
        "outputId": "87848238-e6bd-4043-b7dc-a80ca0feabd5"
      },
      "source": [
        "import decimal\n",
        "decimal.getcontext().prec = 30\n",
        "\n",
        "a = input()\n",
        "print(sum([decimal.Decimal(x) for x in a.split()]))"
      ],
      "execution_count": 17,
      "outputs": [
        {
          "output_type": "stream",
          "text": [
            "1.2 3.4 5.6\n",
            "10.2\n"
          ],
          "name": "stdout"
        }
      ]
    },
    {
      "cell_type": "markdown",
      "metadata": {
        "id": "8ZYBWXpjWmUB",
        "colab_type": "text"
      },
      "source": [
        "#Задача 3 (B)"
      ]
    },
    {
      "cell_type": "markdown",
      "metadata": {
        "id": "UoZS_Y2rXHQL",
        "colab_type": "text"
      },
      "source": [
        "Напишите программу, которая получает на вход слово \"float\", \"double\" или \"long double\", после которого идёт действительное число. и выводит его бинарное представление по 4 разряда\n",
        "\n",
        "Вход\tВыход\n",
        "\n",
        "float 1\t0011 1111 1000 0000 0000 0000 0000 0000\n",
        "\n",
        "double 2\t0100 0000 0000 0000 0000 0000 0000 0000 0000 0000 0000 0000 0000 0000 0000 0000\n",
        "\n",
        "long double -1\t0000 0000 0000 0000 0000 0000 0000 0000 0000 0000 0000 0000 1011 1111 1111 1111 1000 0000 0000 0000 0000 0000 0000 0000 0000 0000 0000 0000 0000 0000 0000 0000\n",
        "\n",
        "Рекомендуется использовать union - совместное использование одной и той же области памяти с интерпретацией как данные различных типов."
      ]
    },
    {
      "cell_type": "code",
      "metadata": {
        "id": "nUDZmJXpS0aw",
        "colab_type": "code",
        "colab": {
          "base_uri": "https://localhost:8080/",
          "height": 129
        },
        "outputId": "39f1cd95-49d7-4498-99ca-15a9378c373a"
      },
      "source": [
        "union u {\n",
        "char data[size];\n",
        "long double ldb;\n",
        "double db;\n",
        "float fl;\n",
        "};"
      ],
      "execution_count": 18,
      "outputs": [
        {
          "output_type": "error",
          "ename": "SyntaxError",
          "evalue": "ignored",
          "traceback": [
            "\u001b[0;36m  File \u001b[0;32m\"<ipython-input-18-ba7667c44380>\"\u001b[0;36m, line \u001b[0;32m1\u001b[0m\n\u001b[0;31m    union u {\u001b[0m\n\u001b[0m          ^\u001b[0m\n\u001b[0;31mSyntaxError\u001b[0m\u001b[0;31m:\u001b[0m invalid syntax\n"
          ]
        }
      ]
    },
    {
      "cell_type": "markdown",
      "metadata": {
        "id": "lPllzlXDXg95",
        "colab_type": "text"
      },
      "source": [
        "#Задача 4(G)"
      ]
    },
    {
      "cell_type": "markdown",
      "metadata": {
        "id": "UdEbzqe-XzH3",
        "colab_type": "text"
      },
      "source": [
        "Из верхнего левого угла в правый нижний угол сетки 2x2 можно пройти 6 разными путями (без возвратов, т.е. если идти только вниз или вправо). Сколько таких разных путей можно найти в сетке N×M?"
      ]
    },
    {
      "cell_type": "code",
      "metadata": {
        "id": "QNayhRnBZuNM",
        "colab_type": "code",
        "colab": {
          "base_uri": "https://localhost:8080/",
          "height": 51
        },
        "outputId": "47258022-a0f9-40fe-99b5-d571f9639fde"
      },
      "source": [
        "import math\n",
        "\n",
        "\n",
        "s = input()\n",
        "\n",
        "n = int(s.split()[0])\n",
        "m = int(s.split()[1])\n",
        "\n",
        "print( math.factorial(n+m) // math.factorial(m) // math.factorial(n))"
      ],
      "execution_count": 23,
      "outputs": [
        {
          "output_type": "stream",
          "text": [
            "3 3\n",
            "20\n"
          ],
          "name": "stdout"
        }
      ]
    },
    {
      "cell_type": "markdown",
      "metadata": {
        "id": "-2w4jopkdj0L",
        "colab_type": "text"
      },
      "source": [
        "#Задача 5(H)"
      ]
    },
    {
      "cell_type": "markdown",
      "metadata": {
        "id": "9K8Z92zj3zX6",
        "colab_type": "text"
      },
      "source": [
        "Напишите программу, которая считает количество разложений P(N) данного натурального числа N на неупорядоченные натуральные слагаемые. Например, для N = 5 есть 7 различных разложений: 5 = 4+1 = 3+2 = 3+1+1 = 2+2+1 = 2+1+1+1 = 1+1+1+1+1. Разложения считаются различными если множества слагаемых различаются."
      ]
    },
    {
      "cell_type": "code",
      "metadata": {
        "id": "AMLh-e0EcVV9",
        "colab_type": "code",
        "colab": {
          "base_uri": "https://localhost:8080/",
          "height": 51
        },
        "outputId": "43c1d207-cbb6-4947-ccb5-80c751f384ab"
      },
      "source": [
        "def partition(number):\n",
        "    answer = set()\n",
        "    answer.add((number, ))\n",
        "    for x in range(1, number):\n",
        "        for y in partition(number - x):\n",
        "            answer.add(tuple(sorted((x, ) + y)))\n",
        "    return answer\n",
        "  \n",
        "  \n",
        "a = int(input())\n",
        "\n",
        "print( len(partition(a)) )"
      ],
      "execution_count": 26,
      "outputs": [
        {
          "output_type": "stream",
          "text": [
            "15\n",
            "176\n"
          ],
          "name": "stdout"
        }
      ]
    },
    {
      "cell_type": "markdown",
      "metadata": {
        "id": "Jy0VmbYcpDbE",
        "colab_type": "text"
      },
      "source": [
        "# Задача 6 (D)\n"
      ]
    },
    {
      "cell_type": "markdown",
      "metadata": {
        "id": "R4IMVqc14rhS",
        "colab_type": "text"
      },
      "source": [
        "Любитель играть в сетевые стрелялки из задачи F бывший студент МФТИ, а ныне рядовой Вовочка попал в горячую точку. Под бомбёжкой он выяснил, что импортное программное обеспечение полно бэкдоров, а разбирать бинарный код он не умеет, так как до второго семестра \" Архитектура ЭВМ и язык ассемблера \" в МФТИ он не доучился. Чтобы его не разбомбили, ему приходится переписывать программное обеспечение системы противовоздушной обороны с нуля. Поскольку ПВО тактическая, ближнего радиуса действия, кривизной поверхности Земли можно пренебречь и считать, что объекты расположены на плоскости, а все координаты декартовы, целые и по модулю не превосходят 104\n",
        "\n",
        "На стандартном потоке ввода в четырёх строках находятся пары чисел — координаты точек. Числа в первых трёх строках — это координаты вершин защищаемого объекта, в котором сидит Вовочка, который можно считать треугольным, в четвёртой строке — ожидаемые координаты падения боевого блока ракеты противника.\n",
        "\n",
        "Вывести слово “In”, если ожидаемая точка падения боевого блока ракеты противника находится внутри или на границе треугольника (и ракету нужно сбивать), или “Out” - если снаружи (и нужно экономить боеприпасы)."
      ]
    },
    {
      "cell_type": "code",
      "metadata": {
        "id": "01ILRLwa5N-V",
        "colab_type": "code",
        "colab": {}
      },
      "source": [
        "def area(tri):\n",
        "    x1, y1, x2, y2, x3, y3 = tri[0][0], tri[0][1], tri[1][0], tri[1][1], tri[2][0], tri[2][1]\n",
        "    return abs(0.5 * (((x2-x1)*(y3-y1))-((x3-x1)*(y2-y1))))\n",
        "  \n",
        "EPS = 1e-4\n",
        "  \n",
        "def semi_equal(a, b):\n",
        "\t\tif a < b + EPS and a > b - EPS:\n",
        "    \treturn True\n",
        "  \telse:\n",
        "    \treturn False\n",
        "  \n",
        "  \n",
        "a = [float(x) for x in input().split()]\n",
        "b = [float(x) for x in input().split()]\n",
        "c = [float(x) for x in input().split()]\n",
        "d = [float(x) for x in input().split()]\n",
        "\n",
        "\n",
        "\n",
        "if semi_equal(area([a,b,c]), area([d,b,c]) + area([a,d,c]) + area([a,b,d]) ):\n",
        "  \tprint(\"In\")\n",
        "else:\n",
        "\t\tif semi_equal(0, area([d,b,c]) + area([a,d,c]) + area([a,b,d]) ) and  semi_equal(0, area([a,b,c])):\n",
        "\t  \t\tif d[0] > min( [a[0], b[0], c[0]] ) and d[0] < max( [a[0], b[0], c[0]] ) :\n",
        "        \t\tprint(\"In\")\n",
        "    \n",
        "\t\tprint(\"Out\")"
      ],
      "execution_count": null,
      "outputs": []
    },
    {
      "cell_type": "code",
      "metadata": {
        "id": "C-U62OYi5aud",
        "colab_type": "code",
        "colab": {
          "base_uri": "https://localhost:8080/",
          "height": 102
        },
        "outputId": "f769b447-a52c-4432-a79b-741d7383c431"
      },
      "source": [
        "def area(tri):\n",
        "\tx1, y1, x2, y2, x3, y3 = tri[0][0], tri[0][1], tri[1][0], tri[1][1], tri[2][0], tri[2][1]\n",
        "\treturn abs(0.5 * (((x2-x1)*(y3-y1))-((x3-x1)*(y2-y1))))\n",
        "\t\n",
        "EPS = 1e-4\n",
        "\t\n",
        "def semi_equal(a, b):\n",
        "\tif a < b + EPS and a > b - EPS:\n",
        "\t    return True\n",
        "\telse:\n",
        "\t\treturn False\n",
        "\t\n",
        "\t\n",
        "a = [float(x) for x in input().split()]\n",
        "b = [float(x) for x in input().split()]\n",
        "c = [float(x) for x in input().split()]\n",
        "d = [float(x) for x in input().split()]\n",
        "\n",
        "\n",
        "\n",
        "if semi_equal(area([a,b,c]), area([d,b,c]) + area([a,d,c]) + area([a,b,d]) ):\n",
        "\tif semi_equal(0, area([d,b,c]) + area([a,d,c]) + area([a,b,d]) ) and  semi_equal(0, area([a,b,c])):\n",
        "\t\tif d[0] > min( [a[0], b[0], c[0]] ) and d[0] < max( [a[0], b[0], c[0]] ) :\n",
        "\t\t\tprint(\"In\")\n",
        "\t\telse:\n",
        "\t\t\tprint(\"Out\")\n",
        "\telse:\n",
        "\t\tprint(\"In\")\n",
        "\t\t\n",
        "else:\n",
        "\tif semi_equal(0, area([d,b,c]) + area([a,d,c]) + area([a,b,d]) ) and  semi_equal(0, area([a,b,c])):\n",
        "\t\tif d[0] > min( [a[0], b[0], c[0]] ) and d[0] < max( [a[0], b[0], c[0]] ) :\n",
        "\t\t\tprint(\"In\")\n",
        "\t\telse:\n",
        "\t\t\tprint(\"Out\")\n",
        "\telse:\n",
        "\t\tprint(\"Out\")"
      ],
      "execution_count": 50,
      "outputs": [
        {
          "output_type": "stream",
          "text": [
            "-2 -2\n",
            "3 1\n",
            "0 1\n",
            "0 0 \n",
            "In\n"
          ],
          "name": "stdout"
        }
      ]
    },
    {
      "cell_type": "markdown",
      "metadata": {
        "id": "254CkdG81tsz",
        "colab_type": "text"
      },
      "source": [
        "#Задача 7 (K)\n"
      ]
    },
    {
      "cell_type": "markdown",
      "metadata": {
        "id": "41N-VE-U1zUJ",
        "colab_type": "text"
      },
      "source": [
        "При анализе лога работы ransomware обнаружились MAС-адреса машин в сети больницы куда он отправлял ключи шифрования. Помогите Шерлоку Жеглову, работающему в Роскомнадзоре, достать эти адреса - шестёрки байт, разделённых двоеточием, байт записан как шестнадцатеричные цифры.\n",
        "\n",
        "Пример\n",
        "Ввод\tВывод\n",
        "Logged in from 3b:42:3F:01:Dc:43\n",
        "connected to 3b:45:3a:01:ac:42\n",
        "failed attempt from 3e:43:38:01:AC:32\n",
        "3b:42:3F:01:Dc:43\n",
        "3b:45:3a:01:ac:42\n",
        "3e:43:38:01:AC:32\n"
      ]
    },
    {
      "cell_type": "code",
      "metadata": {
        "id": "QXCGkCb4lyf-",
        "colab_type": "code",
        "colab": {
          "base_uri": "https://localhost:8080/",
          "height": 527
        },
        "outputId": "3cedc9a4-1c76-4fea-99b9-b90d476583d7"
      },
      "source": [
        "while(True):\n",
        "  s = input()\n",
        "  print(s[-17:])"
      ],
      "execution_count": 34,
      "outputs": [
        {
          "output_type": "error",
          "ename": "KeyboardInterrupt",
          "evalue": "ignored",
          "traceback": [
            "\u001b[0;31m---------------------------------------------------------------------------\u001b[0m",
            "\u001b[0;31mKeyboardInterrupt\u001b[0m                         Traceback (most recent call last)",
            "\u001b[0;32m/usr/local/lib/python3.6/dist-packages/ipykernel/kernelbase.py\u001b[0m in \u001b[0;36m_input_request\u001b[0;34m(self, prompt, ident, parent, password)\u001b[0m\n\u001b[1;32m    728\u001b[0m             \u001b[0;32mtry\u001b[0m\u001b[0;34m:\u001b[0m\u001b[0;34m\u001b[0m\u001b[0;34m\u001b[0m\u001b[0m\n\u001b[0;32m--> 729\u001b[0;31m                 \u001b[0mident\u001b[0m\u001b[0;34m,\u001b[0m \u001b[0mreply\u001b[0m \u001b[0;34m=\u001b[0m \u001b[0mself\u001b[0m\u001b[0;34m.\u001b[0m\u001b[0msession\u001b[0m\u001b[0;34m.\u001b[0m\u001b[0mrecv\u001b[0m\u001b[0;34m(\u001b[0m\u001b[0mself\u001b[0m\u001b[0;34m.\u001b[0m\u001b[0mstdin_socket\u001b[0m\u001b[0;34m,\u001b[0m \u001b[0;36m0\u001b[0m\u001b[0;34m)\u001b[0m\u001b[0;34m\u001b[0m\u001b[0;34m\u001b[0m\u001b[0m\n\u001b[0m\u001b[1;32m    730\u001b[0m             \u001b[0;32mexcept\u001b[0m \u001b[0mException\u001b[0m\u001b[0;34m:\u001b[0m\u001b[0;34m\u001b[0m\u001b[0;34m\u001b[0m\u001b[0m\n",
            "\u001b[0;32m/usr/local/lib/python3.6/dist-packages/jupyter_client/session.py\u001b[0m in \u001b[0;36mrecv\u001b[0;34m(self, socket, mode, content, copy)\u001b[0m\n\u001b[1;32m    802\u001b[0m         \u001b[0;32mtry\u001b[0m\u001b[0;34m:\u001b[0m\u001b[0;34m\u001b[0m\u001b[0;34m\u001b[0m\u001b[0m\n\u001b[0;32m--> 803\u001b[0;31m             \u001b[0mmsg_list\u001b[0m \u001b[0;34m=\u001b[0m \u001b[0msocket\u001b[0m\u001b[0;34m.\u001b[0m\u001b[0mrecv_multipart\u001b[0m\u001b[0;34m(\u001b[0m\u001b[0mmode\u001b[0m\u001b[0;34m,\u001b[0m \u001b[0mcopy\u001b[0m\u001b[0;34m=\u001b[0m\u001b[0mcopy\u001b[0m\u001b[0;34m)\u001b[0m\u001b[0;34m\u001b[0m\u001b[0;34m\u001b[0m\u001b[0m\n\u001b[0m\u001b[1;32m    804\u001b[0m         \u001b[0;32mexcept\u001b[0m \u001b[0mzmq\u001b[0m\u001b[0;34m.\u001b[0m\u001b[0mZMQError\u001b[0m \u001b[0;32mas\u001b[0m \u001b[0me\u001b[0m\u001b[0;34m:\u001b[0m\u001b[0;34m\u001b[0m\u001b[0;34m\u001b[0m\u001b[0m\n",
            "\u001b[0;32m/usr/local/lib/python3.6/dist-packages/zmq/sugar/socket.py\u001b[0m in \u001b[0;36mrecv_multipart\u001b[0;34m(self, flags, copy, track)\u001b[0m\n\u001b[1;32m    474\u001b[0m         \"\"\"\n\u001b[0;32m--> 475\u001b[0;31m         \u001b[0mparts\u001b[0m \u001b[0;34m=\u001b[0m \u001b[0;34m[\u001b[0m\u001b[0mself\u001b[0m\u001b[0;34m.\u001b[0m\u001b[0mrecv\u001b[0m\u001b[0;34m(\u001b[0m\u001b[0mflags\u001b[0m\u001b[0;34m,\u001b[0m \u001b[0mcopy\u001b[0m\u001b[0;34m=\u001b[0m\u001b[0mcopy\u001b[0m\u001b[0;34m,\u001b[0m \u001b[0mtrack\u001b[0m\u001b[0;34m=\u001b[0m\u001b[0mtrack\u001b[0m\u001b[0;34m)\u001b[0m\u001b[0;34m]\u001b[0m\u001b[0;34m\u001b[0m\u001b[0;34m\u001b[0m\u001b[0m\n\u001b[0m\u001b[1;32m    476\u001b[0m         \u001b[0;31m# have first part already, only loop while more to receive\u001b[0m\u001b[0;34m\u001b[0m\u001b[0;34m\u001b[0m\u001b[0;34m\u001b[0m\u001b[0m\n",
            "\u001b[0;32mzmq/backend/cython/socket.pyx\u001b[0m in \u001b[0;36mzmq.backend.cython.socket.Socket.recv\u001b[0;34m()\u001b[0m\n",
            "\u001b[0;32mzmq/backend/cython/socket.pyx\u001b[0m in \u001b[0;36mzmq.backend.cython.socket.Socket.recv\u001b[0;34m()\u001b[0m\n",
            "\u001b[0;32mzmq/backend/cython/socket.pyx\u001b[0m in \u001b[0;36mzmq.backend.cython.socket._recv_copy\u001b[0;34m()\u001b[0m\n",
            "\u001b[0;32m/usr/local/lib/python3.6/dist-packages/zmq/backend/cython/checkrc.pxd\u001b[0m in \u001b[0;36mzmq.backend.cython.checkrc._check_rc\u001b[0;34m()\u001b[0m\n",
            "\u001b[0;31mKeyboardInterrupt\u001b[0m: ",
            "\nDuring handling of the above exception, another exception occurred:\n",
            "\u001b[0;31mKeyboardInterrupt\u001b[0m                         Traceback (most recent call last)",
            "\u001b[0;32m<ipython-input-34-7c453ada1aed>\u001b[0m in \u001b[0;36m<module>\u001b[0;34m()\u001b[0m\n\u001b[1;32m      1\u001b[0m \u001b[0;32mwhile\u001b[0m\u001b[0;34m(\u001b[0m\u001b[0;32mTrue\u001b[0m\u001b[0;34m)\u001b[0m\u001b[0;34m:\u001b[0m\u001b[0;34m\u001b[0m\u001b[0;34m\u001b[0m\u001b[0m\n\u001b[0;32m----> 2\u001b[0;31m   \u001b[0ms\u001b[0m \u001b[0;34m=\u001b[0m \u001b[0minput\u001b[0m\u001b[0;34m(\u001b[0m\u001b[0;34m)\u001b[0m\u001b[0;34m\u001b[0m\u001b[0;34m\u001b[0m\u001b[0m\n\u001b[0m\u001b[1;32m      3\u001b[0m   \u001b[0mprint\u001b[0m\u001b[0;34m(\u001b[0m\u001b[0ms\u001b[0m\u001b[0;34m[\u001b[0m\u001b[0;34m-\u001b[0m\u001b[0;36m17\u001b[0m\u001b[0;34m:\u001b[0m\u001b[0;34m]\u001b[0m\u001b[0;34m)\u001b[0m\u001b[0;34m\u001b[0m\u001b[0;34m\u001b[0m\u001b[0m\n",
            "\u001b[0;32m/usr/local/lib/python3.6/dist-packages/ipykernel/kernelbase.py\u001b[0m in \u001b[0;36mraw_input\u001b[0;34m(self, prompt)\u001b[0m\n\u001b[1;32m    702\u001b[0m             \u001b[0mself\u001b[0m\u001b[0;34m.\u001b[0m\u001b[0m_parent_ident\u001b[0m\u001b[0;34m,\u001b[0m\u001b[0;34m\u001b[0m\u001b[0;34m\u001b[0m\u001b[0m\n\u001b[1;32m    703\u001b[0m             \u001b[0mself\u001b[0m\u001b[0;34m.\u001b[0m\u001b[0m_parent_header\u001b[0m\u001b[0;34m,\u001b[0m\u001b[0;34m\u001b[0m\u001b[0;34m\u001b[0m\u001b[0m\n\u001b[0;32m--> 704\u001b[0;31m             \u001b[0mpassword\u001b[0m\u001b[0;34m=\u001b[0m\u001b[0;32mFalse\u001b[0m\u001b[0;34m,\u001b[0m\u001b[0;34m\u001b[0m\u001b[0;34m\u001b[0m\u001b[0m\n\u001b[0m\u001b[1;32m    705\u001b[0m         )\n\u001b[1;32m    706\u001b[0m \u001b[0;34m\u001b[0m\u001b[0m\n",
            "\u001b[0;32m/usr/local/lib/python3.6/dist-packages/ipykernel/kernelbase.py\u001b[0m in \u001b[0;36m_input_request\u001b[0;34m(self, prompt, ident, parent, password)\u001b[0m\n\u001b[1;32m    732\u001b[0m             \u001b[0;32mexcept\u001b[0m \u001b[0mKeyboardInterrupt\u001b[0m\u001b[0;34m:\u001b[0m\u001b[0;34m\u001b[0m\u001b[0;34m\u001b[0m\u001b[0m\n\u001b[1;32m    733\u001b[0m                 \u001b[0;31m# re-raise KeyboardInterrupt, to truncate traceback\u001b[0m\u001b[0;34m\u001b[0m\u001b[0;34m\u001b[0m\u001b[0;34m\u001b[0m\u001b[0m\n\u001b[0;32m--> 734\u001b[0;31m                 \u001b[0;32mraise\u001b[0m \u001b[0mKeyboardInterrupt\u001b[0m\u001b[0;34m\u001b[0m\u001b[0;34m\u001b[0m\u001b[0m\n\u001b[0m\u001b[1;32m    735\u001b[0m             \u001b[0;32melse\u001b[0m\u001b[0;34m:\u001b[0m\u001b[0;34m\u001b[0m\u001b[0;34m\u001b[0m\u001b[0m\n\u001b[1;32m    736\u001b[0m                 \u001b[0;32mbreak\u001b[0m\u001b[0;34m\u001b[0m\u001b[0;34m\u001b[0m\u001b[0m\n",
            "\u001b[0;31mKeyboardInterrupt\u001b[0m: "
          ]
        }
      ]
    },
    {
      "cell_type": "code",
      "metadata": {
        "id": "80tEVRHznjcU",
        "colab_type": "code",
        "colab": {
          "base_uri": "https://localhost:8080/",
          "height": 663
        },
        "outputId": "d70e098d-58b6-44fe-c3f7-a645ef5e490f"
      },
      "source": [
        "while(True):\n",
        "  s = input()\n",
        "  s = s.split(\":\")\n",
        "  s[0]  = s[0][-2:]\n",
        "  s[-1] = s[-1][:2]\n",
        "  answer = \"\"\n",
        "  for x in s:\n",
        "    answer = answer + x + \":\"\n",
        "  print(answer[:-1])"
      ],
      "execution_count": 36,
      "outputs": [
        {
          "output_type": "stream",
          "text": [
            "Logged in from 3b:42:3F:01:Dc:43 connected to 3b:45:3a:01:ac:42 failed attempt from 3e:43:38:01:AC:32\n",
            "3b:42:3F:01:Dc:43 connected to 3b:45:3a:01:ac:42 failed attempt from 3e:43:38:01:AC:32\n",
            "Logged in from 3b:42:3F:01:Dc:43\n",
            "3b:42:3F:01:Dc:43\n",
            "connected to 3b:45:3a:01:ac:42\n",
            "3b:45:3a:01:ac:42\n",
            "m                                         \n",
            "  \n"
          ],
          "name": "stdout"
        },
        {
          "output_type": "error",
          "ename": "KeyboardInterrupt",
          "evalue": "ignored",
          "traceback": [
            "\u001b[0;31m---------------------------------------------------------------------------\u001b[0m",
            "\u001b[0;31mKeyboardInterrupt\u001b[0m                         Traceback (most recent call last)",
            "\u001b[0;32m/usr/local/lib/python3.6/dist-packages/ipykernel/kernelbase.py\u001b[0m in \u001b[0;36m_input_request\u001b[0;34m(self, prompt, ident, parent, password)\u001b[0m\n\u001b[1;32m    728\u001b[0m             \u001b[0;32mtry\u001b[0m\u001b[0;34m:\u001b[0m\u001b[0;34m\u001b[0m\u001b[0;34m\u001b[0m\u001b[0m\n\u001b[0;32m--> 729\u001b[0;31m                 \u001b[0mident\u001b[0m\u001b[0;34m,\u001b[0m \u001b[0mreply\u001b[0m \u001b[0;34m=\u001b[0m \u001b[0mself\u001b[0m\u001b[0;34m.\u001b[0m\u001b[0msession\u001b[0m\u001b[0;34m.\u001b[0m\u001b[0mrecv\u001b[0m\u001b[0;34m(\u001b[0m\u001b[0mself\u001b[0m\u001b[0;34m.\u001b[0m\u001b[0mstdin_socket\u001b[0m\u001b[0;34m,\u001b[0m \u001b[0;36m0\u001b[0m\u001b[0;34m)\u001b[0m\u001b[0;34m\u001b[0m\u001b[0;34m\u001b[0m\u001b[0m\n\u001b[0m\u001b[1;32m    730\u001b[0m             \u001b[0;32mexcept\u001b[0m \u001b[0mException\u001b[0m\u001b[0;34m:\u001b[0m\u001b[0;34m\u001b[0m\u001b[0;34m\u001b[0m\u001b[0m\n",
            "\u001b[0;32m/usr/local/lib/python3.6/dist-packages/jupyter_client/session.py\u001b[0m in \u001b[0;36mrecv\u001b[0;34m(self, socket, mode, content, copy)\u001b[0m\n\u001b[1;32m    802\u001b[0m         \u001b[0;32mtry\u001b[0m\u001b[0;34m:\u001b[0m\u001b[0;34m\u001b[0m\u001b[0;34m\u001b[0m\u001b[0m\n\u001b[0;32m--> 803\u001b[0;31m             \u001b[0mmsg_list\u001b[0m \u001b[0;34m=\u001b[0m \u001b[0msocket\u001b[0m\u001b[0;34m.\u001b[0m\u001b[0mrecv_multipart\u001b[0m\u001b[0;34m(\u001b[0m\u001b[0mmode\u001b[0m\u001b[0;34m,\u001b[0m \u001b[0mcopy\u001b[0m\u001b[0;34m=\u001b[0m\u001b[0mcopy\u001b[0m\u001b[0;34m)\u001b[0m\u001b[0;34m\u001b[0m\u001b[0;34m\u001b[0m\u001b[0m\n\u001b[0m\u001b[1;32m    804\u001b[0m         \u001b[0;32mexcept\u001b[0m \u001b[0mzmq\u001b[0m\u001b[0;34m.\u001b[0m\u001b[0mZMQError\u001b[0m \u001b[0;32mas\u001b[0m \u001b[0me\u001b[0m\u001b[0;34m:\u001b[0m\u001b[0;34m\u001b[0m\u001b[0;34m\u001b[0m\u001b[0m\n",
            "\u001b[0;32m/usr/local/lib/python3.6/dist-packages/zmq/sugar/socket.py\u001b[0m in \u001b[0;36mrecv_multipart\u001b[0;34m(self, flags, copy, track)\u001b[0m\n\u001b[1;32m    474\u001b[0m         \"\"\"\n\u001b[0;32m--> 475\u001b[0;31m         \u001b[0mparts\u001b[0m \u001b[0;34m=\u001b[0m \u001b[0;34m[\u001b[0m\u001b[0mself\u001b[0m\u001b[0;34m.\u001b[0m\u001b[0mrecv\u001b[0m\u001b[0;34m(\u001b[0m\u001b[0mflags\u001b[0m\u001b[0;34m,\u001b[0m \u001b[0mcopy\u001b[0m\u001b[0;34m=\u001b[0m\u001b[0mcopy\u001b[0m\u001b[0;34m,\u001b[0m \u001b[0mtrack\u001b[0m\u001b[0;34m=\u001b[0m\u001b[0mtrack\u001b[0m\u001b[0;34m)\u001b[0m\u001b[0;34m]\u001b[0m\u001b[0;34m\u001b[0m\u001b[0;34m\u001b[0m\u001b[0m\n\u001b[0m\u001b[1;32m    476\u001b[0m         \u001b[0;31m# have first part already, only loop while more to receive\u001b[0m\u001b[0;34m\u001b[0m\u001b[0;34m\u001b[0m\u001b[0;34m\u001b[0m\u001b[0m\n",
            "\u001b[0;32mzmq/backend/cython/socket.pyx\u001b[0m in \u001b[0;36mzmq.backend.cython.socket.Socket.recv\u001b[0;34m()\u001b[0m\n",
            "\u001b[0;32mzmq/backend/cython/socket.pyx\u001b[0m in \u001b[0;36mzmq.backend.cython.socket.Socket.recv\u001b[0;34m()\u001b[0m\n",
            "\u001b[0;32mzmq/backend/cython/socket.pyx\u001b[0m in \u001b[0;36mzmq.backend.cython.socket._recv_copy\u001b[0;34m()\u001b[0m\n",
            "\u001b[0;32m/usr/local/lib/python3.6/dist-packages/zmq/backend/cython/checkrc.pxd\u001b[0m in \u001b[0;36mzmq.backend.cython.checkrc._check_rc\u001b[0;34m()\u001b[0m\n",
            "\u001b[0;31mKeyboardInterrupt\u001b[0m: ",
            "\nDuring handling of the above exception, another exception occurred:\n",
            "\u001b[0;31mKeyboardInterrupt\u001b[0m                         Traceback (most recent call last)",
            "\u001b[0;32m<ipython-input-36-b5e15db8f6d1>\u001b[0m in \u001b[0;36m<module>\u001b[0;34m()\u001b[0m\n\u001b[1;32m      1\u001b[0m \u001b[0;32mwhile\u001b[0m\u001b[0;34m(\u001b[0m\u001b[0;32mTrue\u001b[0m\u001b[0;34m)\u001b[0m\u001b[0;34m:\u001b[0m\u001b[0;34m\u001b[0m\u001b[0;34m\u001b[0m\u001b[0m\n\u001b[0;32m----> 2\u001b[0;31m   \u001b[0ms\u001b[0m \u001b[0;34m=\u001b[0m \u001b[0minput\u001b[0m\u001b[0;34m(\u001b[0m\u001b[0;34m)\u001b[0m\u001b[0;34m\u001b[0m\u001b[0;34m\u001b[0m\u001b[0m\n\u001b[0m\u001b[1;32m      3\u001b[0m   \u001b[0ms\u001b[0m \u001b[0;34m=\u001b[0m \u001b[0ms\u001b[0m\u001b[0;34m.\u001b[0m\u001b[0msplit\u001b[0m\u001b[0;34m(\u001b[0m\u001b[0;34m\":\"\u001b[0m\u001b[0;34m)\u001b[0m\u001b[0;34m\u001b[0m\u001b[0;34m\u001b[0m\u001b[0m\n\u001b[1;32m      4\u001b[0m   \u001b[0ms\u001b[0m\u001b[0;34m[\u001b[0m\u001b[0;36m0\u001b[0m\u001b[0;34m]\u001b[0m  \u001b[0;34m=\u001b[0m \u001b[0ms\u001b[0m\u001b[0;34m[\u001b[0m\u001b[0;36m0\u001b[0m\u001b[0;34m]\u001b[0m\u001b[0;34m[\u001b[0m\u001b[0;34m-\u001b[0m\u001b[0;36m2\u001b[0m\u001b[0;34m:\u001b[0m\u001b[0;34m]\u001b[0m\u001b[0;34m\u001b[0m\u001b[0;34m\u001b[0m\u001b[0m\n\u001b[1;32m      5\u001b[0m   \u001b[0ms\u001b[0m\u001b[0;34m[\u001b[0m\u001b[0;34m-\u001b[0m\u001b[0;36m1\u001b[0m\u001b[0;34m]\u001b[0m \u001b[0;34m=\u001b[0m \u001b[0ms\u001b[0m\u001b[0;34m[\u001b[0m\u001b[0;34m-\u001b[0m\u001b[0;36m1\u001b[0m\u001b[0;34m]\u001b[0m\u001b[0;34m[\u001b[0m\u001b[0;34m:\u001b[0m\u001b[0;36m2\u001b[0m\u001b[0;34m]\u001b[0m\u001b[0;34m\u001b[0m\u001b[0;34m\u001b[0m\u001b[0m\n",
            "\u001b[0;32m/usr/local/lib/python3.6/dist-packages/ipykernel/kernelbase.py\u001b[0m in \u001b[0;36mraw_input\u001b[0;34m(self, prompt)\u001b[0m\n\u001b[1;32m    702\u001b[0m             \u001b[0mself\u001b[0m\u001b[0;34m.\u001b[0m\u001b[0m_parent_ident\u001b[0m\u001b[0;34m,\u001b[0m\u001b[0;34m\u001b[0m\u001b[0;34m\u001b[0m\u001b[0m\n\u001b[1;32m    703\u001b[0m             \u001b[0mself\u001b[0m\u001b[0;34m.\u001b[0m\u001b[0m_parent_header\u001b[0m\u001b[0;34m,\u001b[0m\u001b[0;34m\u001b[0m\u001b[0;34m\u001b[0m\u001b[0m\n\u001b[0;32m--> 704\u001b[0;31m             \u001b[0mpassword\u001b[0m\u001b[0;34m=\u001b[0m\u001b[0;32mFalse\u001b[0m\u001b[0;34m,\u001b[0m\u001b[0;34m\u001b[0m\u001b[0;34m\u001b[0m\u001b[0m\n\u001b[0m\u001b[1;32m    705\u001b[0m         )\n\u001b[1;32m    706\u001b[0m \u001b[0;34m\u001b[0m\u001b[0m\n",
            "\u001b[0;32m/usr/local/lib/python3.6/dist-packages/ipykernel/kernelbase.py\u001b[0m in \u001b[0;36m_input_request\u001b[0;34m(self, prompt, ident, parent, password)\u001b[0m\n\u001b[1;32m    732\u001b[0m             \u001b[0;32mexcept\u001b[0m \u001b[0mKeyboardInterrupt\u001b[0m\u001b[0;34m:\u001b[0m\u001b[0;34m\u001b[0m\u001b[0;34m\u001b[0m\u001b[0m\n\u001b[1;32m    733\u001b[0m                 \u001b[0;31m# re-raise KeyboardInterrupt, to truncate traceback\u001b[0m\u001b[0;34m\u001b[0m\u001b[0;34m\u001b[0m\u001b[0;34m\u001b[0m\u001b[0m\n\u001b[0;32m--> 734\u001b[0;31m                 \u001b[0;32mraise\u001b[0m \u001b[0mKeyboardInterrupt\u001b[0m\u001b[0;34m\u001b[0m\u001b[0;34m\u001b[0m\u001b[0m\n\u001b[0m\u001b[1;32m    735\u001b[0m             \u001b[0;32melse\u001b[0m\u001b[0;34m:\u001b[0m\u001b[0;34m\u001b[0m\u001b[0;34m\u001b[0m\u001b[0m\n\u001b[1;32m    736\u001b[0m                 \u001b[0;32mbreak\u001b[0m\u001b[0;34m\u001b[0m\u001b[0;34m\u001b[0m\u001b[0m\n",
            "\u001b[0;31mKeyboardInterrupt\u001b[0m: "
          ]
        }
      ]
    },
    {
      "cell_type": "markdown",
      "metadata": {
        "id": "w3F8sYnH3K2f",
        "colab_type": "text"
      },
      "source": [
        "#Задача 8 (L)"
      ]
    },
    {
      "cell_type": "markdown",
      "metadata": {
        "id": "SIEkRFhc3SEm",
        "colab_type": "text"
      },
      "source": [
        "Лексические и синтаксические ошибки. Вычисление выражений\n",
        "Во входных данных скобочное выражениее, использующее четыре основные арифметические операции\n",
        "\n",
        "Если это возможно, необходимо вычислить выражение и выдать результат на выход. Все лишние пробельные символы, включая переносы строк, игнорировать. Вычисления идут в целых числах.\n",
        "\n",
        "Возможными причинами невозможности вычисления может быть наличие символов кроме цифр, арифметических операций, скобок, пробельных символов (лексическое ошибки), а также нарность скобок, цифры и операции в неподходящих местах (синтаксические ошибки)\n",
        "\n",
        "В случае лексических и синтаксических ошибок достаточно вывести ERROR\n",
        "\n",
        "\n",
        "Пример 1\n",
        "\n",
        "Вход: (55 - 30 / (92 + 63))\n",
        "\n",
        "Выход: 55\n",
        "\n",
        "Пояснение: приоритет деления выше, сначала вычисляется 30 / (92 + 63) это 0 в целых числах.\n",
        "\n",
        "\n",
        "Пример 2 (лексическая ошибка)\n",
        "\n",
        "Вход: (5S - 30)\n",
        "\n",
        "Выход: ERROR\n",
        "\n",
        "\n",
        "Пример 3 (синтаксическая ошибка, открывающих скобок больше, чем закрывающих)\n",
        "\n",
        "Вход: (55 - 30 / (92 + 63)\n",
        "\n",
        "Выход: ERROR"
      ]
    },
    {
      "cell_type": "code",
      "metadata": {
        "id": "eEX7dfiFqOBh",
        "colab_type": "code",
        "colab": {
          "base_uri": "https://localhost:8080/",
          "height": 68
        },
        "outputId": "87c1a8ad-d894-43da-a9f4-ffa53dc59850"
      },
      "source": [
        "s = input()    \n",
        "\n",
        "try:    \n",
        "\tprint( exec(  \"print(\" + s + \")\"  ) )\n",
        "except:\n",
        "  print(\"ERROR\")"
      ],
      "execution_count": 37,
      "outputs": [
        {
          "output_type": "stream",
          "text": [
            "(50+3)\n",
            "53\n",
            "None\n"
          ],
          "name": "stdout"
        }
      ]
    },
    {
      "cell_type": "code",
      "metadata": {
        "id": "24Xv6hx1qvG7",
        "colab_type": "code",
        "colab": {
          "base_uri": "https://localhost:8080/",
          "height": 51
        },
        "outputId": "628b66d1-2f97-4898-e8d9-9efb2b418dca"
      },
      "source": [
        "s = input()    \n",
        "\n",
        "try:    \n",
        "\tprint( exec( s ) )\n",
        "except:\n",
        "  print(\"ERROR\")"
      ],
      "execution_count": 38,
      "outputs": [
        {
          "output_type": "stream",
          "text": [
            "50+3\n",
            "None\n"
          ],
          "name": "stdout"
        }
      ]
    },
    {
      "cell_type": "code",
      "metadata": {
        "id": "1JPnA2jerNBa",
        "colab_type": "code",
        "colab": {
          "base_uri": "https://localhost:8080/",
          "height": 51
        },
        "outputId": "096cf2cf-10a0-44d8-d763-8af2856ff7ac"
      },
      "source": [
        "s = input()    \n",
        "\n",
        "try:    \n",
        "\texec(  \"print(\" + s + \")\"  )\n",
        "except:\n",
        "  print(\"ERROR\")"
      ],
      "execution_count": 40,
      "outputs": [
        {
          "output_type": "stream",
          "text": [
            "(50+3\n",
            "ERROR\n"
          ],
          "name": "stdout"
        }
      ]
    },
    {
      "cell_type": "code",
      "metadata": {
        "id": "msaOrxeCr1Mp",
        "colab_type": "code",
        "colab": {
          "base_uri": "https://localhost:8080/",
          "height": 51
        },
        "outputId": "925f4287-80fc-44ff-d481-2a1b0d9f2536"
      },
      "source": [
        "s = input()    \n",
        "s=s.replace(\"/\", \"//\")\n",
        "\n",
        "\n",
        "try:    \n",
        "\texec(  \"print(\" + s + \")\"  )\n",
        "except:\n",
        "  print(\"ERROR\")"
      ],
      "execution_count": 45,
      "outputs": [
        {
          "output_type": "stream",
          "text": [
            "50  +3\n",
            "53\n"
          ],
          "name": "stdout"
        }
      ]
    },
    {
      "cell_type": "markdown",
      "metadata": {
        "id": "chXqCTGD4Jt3",
        "colab_type": "text"
      },
      "source": [
        "#Задача 9 "
      ]
    },
    {
      "cell_type": "markdown",
      "metadata": {
        "id": "Cd34uY2763TO",
        "colab_type": "text"
      },
      "source": [
        "Маска - признак принадлежности к банде подсети\n",
        "\n",
        "В подсети 10.0.0.0/x находятся z компьютеров. Найдите максимальное число x.\n",
        "\n",
        "Пример\n",
        "Стандартный ввод\tСтандартный вывод\n",
        "30\n",
        "27\n"
      ]
    },
    {
      "cell_type": "markdown",
      "metadata": {
        "id": "8A-v-6Je4OKV",
        "colab_type": "text"
      },
      "source": [
        "#Задача 10 "
      ]
    },
    {
      "cell_type": "markdown",
      "metadata": {
        "id": "q3zpYxz564x-",
        "colab_type": "text"
      },
      "source": [
        "В круговом турнире чемпионата МФТИ по сетевой стрелялке каждая команда сыграла с каждой ровно один матч. После чего внезапно случилась сессия, и все участники были отчислены за неуспеваемость. Представитель военкомата для формирования итоговой таблицы предложил упорядочить команды так, чтобы каждая команда выиграла у следующей за ней. Решение этой задачи поручено Вам. Если упорядочить команды соответствующим образом нельзя, выведите -1. Иначе выведите любое упорядочивание, соответствующее требованию военкомата.\n",
        "\n",
        "Первая строка входа содержит число команд N ( 1 ≤ N ≤ 200 ). Далее следует N строчек. i-я из этих строк состоит из i символов; i -й символ в строке равен ‘ # ’, j -й ( j < i ) символ равен ‘ + ’, если команда i выиграла у команды j , и ‘ - ’ в противном случае.\n",
        "\n",
        "Выведите номера команд (первые N целых положительных чисел), отсортированных в требуемом порядке, то есть чтобы каждая команда выиграла у следующей за ней. Если отсортировать команды таким образом нельзя, выведите -1.\n",
        "\n",
        "standard input\tstandard output\n",
        "\n",
        "4\n",
        "#\n",
        "+#\n",
        "-+#\n",
        "-+-#\n",
        "\n",
        "\t\t\t\n",
        "\t\t1 3 4 2\n",
        "\t\t\n"
      ]
    },
    {
      "cell_type": "markdown",
      "metadata": {
        "id": "9WJTulJy4R2X",
        "colab_type": "text"
      },
      "source": [
        "#Задача 11 "
      ]
    },
    {
      "cell_type": "markdown",
      "metadata": {
        "id": "wlc9EQpq6-yn",
        "colab_type": "text"
      },
      "source": [
        "Граница\n",
        "Пете необходимо из пункта A попасть в пункт B. Но он хочет использовать случай и заодно заехать в дружественую страну, граница с которой пролегает совсем поблизости и недавно открылась после карантина.\n",
        "При этом он хочет, чтобы его путь был как можно короче, покольку времени не так уж и много.\n",
        "\n",
        "Помогите ему решить эту задачу.\n",
        "\n",
        "Поезда курсируют между всеми городами.\n",
        "\n",
        "Вход В первой строчке заданы количество городов N (3 ≤ N ≤ 300). Затем идет действительное число R. Затем идут N строчек с описанием их кординат. В каждой строчке координаты X и Y, разделенные пробелом. Граница с дружественной страной — прямая x = 0. Города A и B — это первые два города. Координата X городов A и B положительна. Один из указанных городов лежит за границей, то есть имеет X < 0. Все координаты — действительные числа по модулю меньше 100000.\n",
        "\n",
        "Известно, что по крайней мере один путь, удовлетворяющий условиям, существует. Заезжать в B а потом за границу, а потом опять в B нельзя или наоборот, из A за границу, обратно в А, а потом в B нельзя.\n",
        "\n",
        "Дороги проведены между теми и только теми городами, между которыми расстояние меньше либо равно R.\n",
        "\n",
        "Выход Минимальная длина пути. (отличие от правильного ответа не должно превосходить 0.01).\n",
        "\n",
        "Вход#1\n",
        "4\n",
        "4.5\n",
        "1 -1\n",
        "1 1\n",
        "-1 -1\n",
        "-1 1\n",
        "Выход#1\n",
        "4.828\n",
        "\n",
        "\n"
      ]
    },
    {
      "cell_type": "markdown",
      "metadata": {
        "id": "luSNyBBh7CzV",
        "colab_type": "text"
      },
      "source": [
        ""
      ]
    }
  ]
}